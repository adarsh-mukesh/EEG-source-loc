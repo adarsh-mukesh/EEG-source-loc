{
 "cells": [
  {
   "cell_type": "code",
   "execution_count": null,
   "id": "99319bae",
   "metadata": {},
   "outputs": [],
   "source": [
    "import sys\n",
    "import os\n",
    "from anlffr.helper import biosemi2mne as bs\n",
    "from anlffr.preproc import find_blinks\n",
    "from mne import compute_proj_epochs\n",
    "import numpy as np\n",
    "import mne\n",
    "from scipy.io import savemat\n",
    "import fnmatch\n",
    "import glob\n",
    "from mne.datasets import fetch_fsaverage\n"
   ]
  }
 ],
 "metadata": {
  "language_info": {
   "name": "python"
  }
 },
 "nbformat": 4,
 "nbformat_minor": 5
}
